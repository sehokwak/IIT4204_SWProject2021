{
  "nbformat": 4,
  "nbformat_minor": 0,
  "metadata": {
    "colab": {
      "name": "FinalColab.ipynb",
      "provenance": [],
      "collapsed_sections": []
    },
    "kernelspec": {
      "name": "python3",
      "display_name": "Python 3"
    },
    "language_info": {
      "name": "python"
    },
    "accelerator": "GPU"
  },
  "cells": [
    {
      "cell_type": "code",
      "metadata": {
        "id": "_dMNs2UH07kS"
      },
      "source": [
        "# mount google drive to Colab\n",
        "from google.colab import drive\n",
        "drive.mount('/content/drive')"
      ],
      "execution_count": null,
      "outputs": []
    },
    {
      "cell_type": "code",
      "source": [
        "# Alternatively, clone repository\n",
        "! git clone https://github.com/sehokwak/IIT4204_SWProject2021.git"
      ],
      "metadata": {
        "id": "SzZ3De_bAs0f"
      },
      "execution_count": null,
      "outputs": []
    },
    {
      "cell_type": "code",
      "metadata": {
        "id": "Q6PyKbHG1ury"
      },
      "source": [
        "# download dataset\n",
        "! gdown --id 19FGnKyWBq4gU9Qm0x0w83lc6k-o5Eb3V\n",
        "! tar -xzf /content/dataset.tar.gz"
      ],
      "execution_count": null,
      "outputs": []
    },
    {
      "cell_type": "code",
      "metadata": {
        "id": "mevyj4ST4hwr"
      },
      "source": [
        "# run train script\n",
        "!bash /content/drive/Othercomputers/MacBook/IIT4204_SWProject2021/script/train.sh"
      ],
      "execution_count": null,
      "outputs": []
    }
  ]
}